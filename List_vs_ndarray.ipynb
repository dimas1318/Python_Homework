{
 "cells": [
  {
   "cell_type": "code",
   "execution_count": 1,
   "metadata": {
    "collapsed": true
   },
   "outputs": [],
   "source": [
    "import numpy as np"
   ]
  },
  {
   "cell_type": "code",
   "execution_count": 2,
   "metadata": {
    "collapsed": false
   },
   "outputs": [],
   "source": [
    "myNdarray = np.arange(0, 100000)\n",
    "myList = range(0, 100000)"
   ]
  },
  {
   "cell_type": "code",
   "execution_count": 3,
   "metadata": {
    "collapsed": false
   },
   "outputs": [
    {
     "name": "stdout",
     "output_type": "stream",
     "text": [
      "10000 loops, best of 3: 55.6 µs per loop\n",
      "1000 loops, best of 3: 498 µs per loop\n"
     ]
    }
   ],
   "source": [
    "%timeit myNdarray.sum()\n",
    "%timeit sum(myList)"
   ]
  },
  {
   "cell_type": "code",
   "execution_count": 4,
   "metadata": {
    "collapsed": false
   },
   "outputs": [
    {
     "name": "stdout",
     "output_type": "stream",
     "text": [
      "The slowest run took 6.26 times longer than the fastest. This could mean that an intermediate result is being cached.\n",
      "10000 loops, best of 3: 52.4 µs per loop\n",
      "100 loops, best of 3: 3.91 ms per loop\n"
     ]
    }
   ],
   "source": [
    "%timeit myNdarray + 1 \n",
    "%timeit [i+1 for i in myList]"
   ]
  },
  {
   "cell_type": "code",
   "execution_count": 5,
   "metadata": {
    "collapsed": false
   },
   "outputs": [
    {
     "name": "stdout",
     "output_type": "stream",
     "text": [
      "10000 loops, best of 3: 94.4 µs per loop\n",
      "1000 loops, best of 3: 2 ms per loop\n"
     ]
    }
   ],
   "source": [
    "%timeit myNdarray.max()\n",
    "%timeit max(myList)"
   ]
  },
  {
   "cell_type": "code",
   "execution_count": 6,
   "metadata": {
    "collapsed": false
   },
   "outputs": [
    {
     "name": "stdout",
     "output_type": "stream",
     "text": [
      "1000 loops, best of 3: 561 µs per loop\n",
      "1000 loops, best of 3: 1.62 ms per loop\n"
     ]
    }
   ],
   "source": [
    "%timeit myNdarray.sort()\n",
    "%timeit myList.sort()"
   ]
  },
  {
   "cell_type": "code",
   "execution_count": null,
   "metadata": {
    "collapsed": true
   },
   "outputs": [],
   "source": []
  }
 ],
 "metadata": {
  "anaconda-cloud": {},
  "kernelspec": {
   "display_name": "Python [conda root]",
   "language": "python",
   "name": "conda-root-py"
  },
  "language_info": {
   "codemirror_mode": {
    "name": "ipython",
    "version": 2
   },
   "file_extension": ".py",
   "mimetype": "text/x-python",
   "name": "python",
   "nbconvert_exporter": "python",
   "pygments_lexer": "ipython2",
   "version": "2.7.12"
  }
 },
 "nbformat": 4,
 "nbformat_minor": 1
}

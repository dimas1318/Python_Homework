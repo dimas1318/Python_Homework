{
 "cells": [
  {
   "cell_type": "code",
   "execution_count": 30,
   "metadata": {
    "collapsed": false
   },
   "outputs": [],
   "source": [
    "def qsort(arr = []):\n",
    "    less = []\n",
    "    equals = []\n",
    "    greater = []\n",
    "    \n",
    "    if(len(arr) > 1):\n",
    "        pivot = arr[0]\n",
    "        for x in arr:\n",
    "            if(x > pivot): greater.append(x)\n",
    "            elif(x == pivot): equals.append(x)\n",
    "            else: less.append(x)\n",
    "        return qsort(less) + equals + qsort(greater)\n",
    "    else:\n",
    "        return arr"
   ]
  },
  {
   "cell_type": "code",
   "execution_count": 33,
   "metadata": {
    "collapsed": false
   },
   "outputs": [
    {
     "name": "stdout",
     "output_type": "stream",
     "text": [
      "[96, 37, 49, 32, 44, 25, 21, 99, 2, 46, 80, 62, 70, 88, 23]\n"
     ]
    }
   ],
   "source": [
    "import random\n",
    "arr = random.sample(range(1, 100), 15)\n",
    "print arr"
   ]
  },
  {
   "cell_type": "code",
   "execution_count": 34,
   "metadata": {
    "collapsed": false
   },
   "outputs": [
    {
     "name": "stdout",
     "output_type": "stream",
     "text": [
      "[2, 21, 23, 25, 32, 37, 44, 46, 49, 62, 70, 80, 88, 96, 99]\n"
     ]
    }
   ],
   "source": [
    "print qsort(arr)"
   ]
  },
  {
   "cell_type": "code",
   "execution_count": null,
   "metadata": {
    "collapsed": true
   },
   "outputs": [],
   "source": []
  }
 ],
 "metadata": {
  "kernelspec": {
   "display_name": "Python [conda root]",
   "language": "python",
   "name": "conda-root-py"
  },
  "language_info": {
   "codemirror_mode": {
    "name": "ipython",
    "version": 2
   },
   "file_extension": ".py",
   "mimetype": "text/x-python",
   "name": "python",
   "nbconvert_exporter": "python",
   "pygments_lexer": "ipython2",
   "version": "2.7.12"
  }
 },
 "nbformat": 4,
 "nbformat_minor": 1
}

{
 "cells": [
  {
   "cell_type": "code",
   "execution_count": 1,
   "metadata": {
    "collapsed": true
   },
   "outputs": [],
   "source": [
    "import numpy as np"
   ]
  },
  {
   "cell_type": "code",
   "execution_count": 2,
   "metadata": {
    "collapsed": false
   },
   "outputs": [],
   "source": [
    "def linspaceFor(start, stop, num):\n",
    "    if(num > 1):\n",
    "        arr = []\n",
    "        step = (float(stop) - float(start)) / (num - 1)\n",
    "        for i in range(num):\n",
    "            arr.append(float(start) + step * i)\n",
    "        return arr\n",
    "    else:\n",
    "        return [float(start)]"
   ]
  },
  {
   "cell_type": "code",
   "execution_count": 3,
   "metadata": {
    "collapsed": false
   },
   "outputs": [],
   "source": [
    "def linspaceList(start, stop, num):\n",
    "    return [(float(start) + ((float(stop) - float(start)) / (num - 1)) * i) for i in range(num)] if (num > 1) else [float(start)]"
   ]
  },
  {
   "cell_type": "code",
   "execution_count": 4,
   "metadata": {
    "collapsed": false
   },
   "outputs": [
    {
     "name": "stdout",
     "output_type": "stream",
     "text": [
      "[ 1.]\n",
      "[1.0]\n",
      "[1.0]\n"
     ]
    }
   ],
   "source": [
    "print np.linspace(1, 7, 1)\n",
    "print linspaceFor(1, 7, 1)\n",
    "print linspaceList(1, 7, 1)"
   ]
  },
  {
   "cell_type": "code",
   "execution_count": 5,
   "metadata": {
    "collapsed": false
   },
   "outputs": [
    {
     "name": "stdout",
     "output_type": "stream",
     "text": [
      "The slowest run took 30.28 times longer than the fastest. This could mean that an intermediate result is being cached.\n",
      "100000 loops, best of 3: 3.73 µs per loop\n",
      "100000 loops, best of 3: 2.9 µs per loop\n",
      "100000 loops, best of 3: 4.75 µs per loop\n"
     ]
    }
   ],
   "source": [
    "%timeit np.linspace(1, 33, 10)\n",
    "%timeit linspaceFor(1, 33, 10)\n",
    "%timeit linspaceList(1, 33, 10)\n"
   ]
  },
  {
   "cell_type": "code",
   "execution_count": 6,
   "metadata": {
    "collapsed": false
   },
   "outputs": [
    {
     "name": "stdout",
     "output_type": "stream",
     "text": [
      "The slowest run took 7.51 times longer than the fastest. This could mean that an intermediate result is being cached.\n",
      "100000 loops, best of 3: 6.13 µs per loop\n",
      "10000 loops, best of 3: 108 µs per loop\n",
      "1000 loops, best of 3: 216 µs per loop\n"
     ]
    }
   ],
   "source": [
    "%timeit np.linspace(1, 33, 500)\n",
    "%timeit linspaceFor(1, 33, 500)\n",
    "%timeit linspaceList(1, 33, 500)"
   ]
  },
  {
   "cell_type": "code",
   "execution_count": 7,
   "metadata": {
    "collapsed": false
   },
   "outputs": [
    {
     "name": "stdout",
     "output_type": "stream",
     "text": [
      "10000 loops, best of 3: 45.1 µs per loop\n",
      "100 loops, best of 3: 2.12 ms per loop\n",
      "100 loops, best of 3: 4.29 ms per loop\n"
     ]
    }
   ],
   "source": [
    "%timeit np.linspace(1, 33, 10000)\n",
    "%timeit linspaceFor(1, 33, 10000)\n",
    "%timeit linspaceList(1, 33, 10000)"
   ]
  },
  {
   "cell_type": "code",
   "execution_count": null,
   "metadata": {
    "collapsed": true
   },
   "outputs": [],
   "source": []
  }
 ],
 "metadata": {
  "anaconda-cloud": {},
  "kernelspec": {
   "display_name": "Python [conda root]",
   "language": "python",
   "name": "conda-root-py"
  },
  "language_info": {
   "codemirror_mode": {
    "name": "ipython",
    "version": 2
   },
   "file_extension": ".py",
   "mimetype": "text/x-python",
   "name": "python",
   "nbconvert_exporter": "python",
   "pygments_lexer": "ipython2",
   "version": "2.7.12"
  }
 },
 "nbformat": 4,
 "nbformat_minor": 1
}

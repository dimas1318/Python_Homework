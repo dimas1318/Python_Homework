{
 "cells": [
  {
   "cell_type": "code",
   "execution_count": 29,
   "metadata": {
    "collapsed": false
   },
   "outputs": [],
   "source": [
    "import scipy  as sc\n",
    "from scipy import linalg as li"
   ]
  },
  {
   "cell_type": "code",
   "execution_count": 30,
   "metadata": {
    "collapsed": false
   },
   "outputs": [
    {
     "name": "stdout",
     "output_type": "stream",
     "text": [
      "[[ 0.94126198  1.17183947 -1.24617014 -1.48508279  0.3583873 ]\n",
      " [-0.96368193 -1.10524398 -0.26932869  0.15455624  0.79862246]\n",
      " [ 1.96682899 -0.04063428 -0.69000109  0.83564223  0.45959439]\n",
      " [-1.01746667  0.29664445  0.14087581  1.22235498 -0.06873295]\n",
      " [-0.64104163  0.17888478 -0.47686098 -0.08004809  0.25538105]]\n"
     ]
    }
   ],
   "source": [
    "c = sc.random.standard_normal((5,5))\n",
    "print c"
   ]
  },
  {
   "cell_type": "code",
   "execution_count": 31,
   "metadata": {
    "collapsed": false
   },
   "outputs": [
    {
     "name": "stdout",
     "output_type": "stream",
     "text": [
      "[ 2.00736953+0.j         -0.04189005+1.68156175j -0.04189005-1.68156175j\n",
      " -0.13518296+0.j         -1.16465353+0.j        ] [[-0.53691126+0.j          0.27171051+0.j         -0.12307299+0.j\n",
      "   0.75695133+0.j          0.22310851+0.j        ]\n",
      " [ 0.28239316+0.43147941j -0.19528281+0.20158732j  0.69478757+0.j\n",
      "  -0.08406760+0.20650864j -0.09313498+0.33791971j]\n",
      " [ 0.28239316-0.43147941j -0.19528281-0.20158732j  0.69478757-0.j\n",
      "  -0.08406760-0.20650864j -0.09313498-0.33791971j]\n",
      " [-0.05143841+0.j         -0.33293980+0.j         -0.63416280+0.j\n",
      "   0.06492649+0.j         -0.69291217+0.j        ]\n",
      " [ 0.10361408+0.j         -0.68518609+0.j         -0.69525688+0.j\n",
      "   0.16773107+0.j         -0.09093020+0.j        ]]\n"
     ]
    }
   ],
   "source": [
    "val, vect = li.eig(c)\n",
    "vect = sc.transpose(vect)\n",
    "print val, vect"
   ]
  },
  {
   "cell_type": "code",
   "execution_count": 33,
   "metadata": {
    "collapsed": false
   },
   "outputs": [
    {
     "name": "stdout",
     "output_type": "stream",
     "text": [
      "True\n",
      "True\n",
      "True\n",
      "True\n",
      "True\n"
     ]
    }
   ],
   "source": [
    "for vector, value in zip(vect, val):\n",
    "    print True if (sc.isclose(sc.dot(c, vector) / value, vector) == True).all() else False"
   ]
  },
  {
   "cell_type": "code",
   "execution_count": null,
   "metadata": {
    "collapsed": true
   },
   "outputs": [],
   "source": []
  }
 ],
 "metadata": {
  "anaconda-cloud": {},
  "kernelspec": {
   "display_name": "Python [conda root]",
   "language": "python",
   "name": "conda-root-py"
  },
  "language_info": {
   "codemirror_mode": {
    "name": "ipython",
    "version": 2
   },
   "file_extension": ".py",
   "mimetype": "text/x-python",
   "name": "python",
   "nbconvert_exporter": "python",
   "pygments_lexer": "ipython2",
   "version": "2.7.12"
  }
 },
 "nbformat": 4,
 "nbformat_minor": 1
}

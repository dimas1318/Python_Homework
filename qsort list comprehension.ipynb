{
 "cells": [
  {
   "cell_type": "code",
   "execution_count": 22,
   "metadata": {
    "collapsed": false
   },
   "outputs": [],
   "source": [
    "def qsort(arr = []):\n",
    "    return  (qsort([x for x in arr if x < arr[0]]) + [z for z in arr if z == arr[0]] \n",
    "                + qsort([y for y in arr if y > arr[0]])) if(len(arr) > 1) else arr"
   ]
  },
  {
   "cell_type": "code",
   "execution_count": 23,
   "metadata": {
    "collapsed": false
   },
   "outputs": [
    {
     "name": "stdout",
     "output_type": "stream",
     "text": [
      "[76, 49, 21, 13, 67, 11, 65, 22, 75, 92, 63, 71, 36, 1, 45]\n"
     ]
    }
   ],
   "source": [
    "import random\n",
    "arr = random.sample(range(1, 100), 15)\n",
    "print arr"
   ]
  },
  {
   "cell_type": "code",
   "execution_count": 24,
   "metadata": {
    "collapsed": false
   },
   "outputs": [
    {
     "name": "stdout",
     "output_type": "stream",
     "text": [
      "[1, 11, 13, 21, 22, 36, 45, 49, 63, 65, 67, 71, 75, 76, 92]\n"
     ]
    }
   ],
   "source": [
    "print qsort(arr)"
   ]
  },
  {
   "cell_type": "code",
   "execution_count": null,
   "metadata": {
    "collapsed": true
   },
   "outputs": [],
   "source": []
  }
 ],
 "metadata": {
  "anaconda-cloud": {},
  "kernelspec": {
   "display_name": "Python [conda root]",
   "language": "python",
   "name": "conda-root-py"
  },
  "language_info": {
   "codemirror_mode": {
    "name": "ipython",
    "version": 2
   },
   "file_extension": ".py",
   "mimetype": "text/x-python",
   "name": "python",
   "nbconvert_exporter": "python",
   "pygments_lexer": "ipython2",
   "version": "2.7.12"
  }
 },
 "nbformat": 4,
 "nbformat_minor": 1
}
